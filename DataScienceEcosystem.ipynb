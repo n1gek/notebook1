{
 "cells": [
  {
   "cell_type": "markdown",
   "id": "d3538ae3",
   "metadata": {},
   "source": [
    "# Data Science Tools and Ecosystem"
   ]
  },
  {
   "cell_type": "markdown",
   "id": "e6bea8b0",
   "metadata": {},
   "source": [
    "## In this Notebook, Data Science Tools and Ecosystems are analyzed"
   ]
  },
  {
   "cell_type": "markdown",
   "id": "79ad5029",
   "metadata": {},
   "source": [
    "**Objectives**\n",
    "- List Popular Languages for Data Science\n",
    "- Understand Version Control\n",
    "- Learn Visualization using R\n",
    "- Creating a Github account\n",
    "- Learn about and how to use branches in Github "
   ]
  },
  {
   "cell_type": "markdown",
   "id": "0fa9145c",
   "metadata": {},
   "source": [
    "### Some of the popular languages that Data Scientists use are:\n",
    "1. Numpy \n",
    "2. Seaborn\n",
    "3. ggplot"
   ]
  },
  {
   "cell_type": "markdown",
   "id": "853ea108",
   "metadata": {},
   "source": [
    "| Data Science Tools |\n",
    "|--------------------|\n",
    "| Jupyter Notebook   |\n",
    "| Apache Zepellin    |\n",
    "| RStudio              |"
   ]
  },
  {
   "cell_type": "markdown",
   "id": "34540217",
   "metadata": {},
   "source": [
    "### Below are a few examples evaluating arithmetic expressions in Python \n"
   ]
  },
  {
   "cell_type": "code",
   "execution_count": 1,
   "id": "074922aa",
   "metadata": {},
   "outputs": [
    {
     "data": {
      "text/plain": [
       "17"
      ]
     },
     "execution_count": 1,
     "metadata": {},
     "output_type": "execute_result"
    }
   ],
   "source": [
    "(3 * 4) + 5"
   ]
  },
  {
   "cell_type": "code",
   "execution_count": 2,
   "id": "736afe6d",
   "metadata": {},
   "outputs": [
    {
     "data": {
      "text/plain": [
       "33.333333333333336"
      ]
     },
     "execution_count": 2,
     "metadata": {},
     "output_type": "execute_result"
    }
   ],
   "source": [
    "200 / 6"
   ]
  },
  {
   "cell_type": "markdown",
   "id": "8cc57306",
   "metadata": {},
   "source": [
    "## Author\n",
    "Tadiwanashe "
   ]
  },
  {
   "cell_type": "code",
   "execution_count": null,
   "id": "42f3b679",
   "metadata": {},
   "outputs": [],
   "source": []
  }
 ],
 "metadata": {
  "kernelspec": {
   "display_name": "Python 3 (ipykernel)",
   "language": "python",
   "name": "python3"
  },
  "language_info": {
   "codemirror_mode": {
    "name": "ipython",
    "version": 3
   },
   "file_extension": ".py",
   "mimetype": "text/x-python",
   "name": "python",
   "nbconvert_exporter": "python",
   "pygments_lexer": "ipython3",
   "version": "3.11.5"
  }
 },
 "nbformat": 4,
 "nbformat_minor": 5
}
